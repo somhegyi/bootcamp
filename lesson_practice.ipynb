{
 "cells": [
  {
   "cell_type": "code",
   "execution_count": 8,
   "metadata": {
    "collapsed": false
   },
   "outputs": [
    {
     "name": "stdout",
     "output_type": "stream",
     "text": [
      "/Users/hannah/git/bootcamp\n"
     ]
    }
   ],
   "source": [
    "import os\n",
    "import warnings\n",
    "import bioinfo_dicts as bd\n",
    "\n",
    "%cd ~/git/bootcamp"
   ]
  },
  {
   "cell_type": "raw",
   "metadata": {},
   "source": [
    "As an example on how to do file I/O, we will take the PDB file and extract only the ATOM records for the first chain of the tetramer and write only those entries to a new file.\n",
    "It is useful to know that according to the PDB format specification, column 21 in the ATOM entry gives the ID of the chain.\n",
    "We also conveniently use the fact that we can have multiple files open in our with block, separating them with commas."
   ]
  },
  {
   "cell_type": "code",
   "execution_count": 7,
   "metadata": {
    "collapsed": true
   },
   "outputs": [],
   "source": [
    "# Check that the filename we are writing to doesn't already exits\n",
    "#if os.path.isfile('atoms_chain_A.txt'):\n",
    "#    raise RuntimeError('File atoms_chain_A.txt already exits.')\n",
    "\n",
    "# Open file to be read and file we will be writing to\n",
    "with open('data/1olg.pdb', 'r') as f, open('atoms_chain_A.txt', 'w') as f_out:\n",
    "    # Get all the lines\n",
    "    lines = f.readlines()\n",
    "    \n",
    "    # Put the ATOM lines from chain A in a new file\n",
    "    for line in lines:\n",
    "        if len(line) > 21 and line[:4] == 'ATOM' and line[21] == 'A':\n",
    "            f_out.write(line)"
   ]
  },
  {
   "cell_type": "code",
   "execution_count": null,
   "metadata": {
    "collapsed": true
   },
   "outputs": [],
   "source": []
  }
 ],
 "metadata": {
  "anaconda-cloud": {},
  "kernelspec": {
   "display_name": "Python [py35]",
   "language": "python",
   "name": "Python [py35]"
  },
  "language_info": {
   "codemirror_mode": {
    "name": "ipython",
    "version": 3
   },
   "file_extension": ".py",
   "mimetype": "text/x-python",
   "name": "python",
   "nbconvert_exporter": "python",
   "pygments_lexer": "ipython3",
   "version": "3.5.2"
  }
 },
 "nbformat": 4,
 "nbformat_minor": 0
}
